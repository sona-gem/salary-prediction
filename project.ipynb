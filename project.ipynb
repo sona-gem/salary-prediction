{
 "cells": [
  {
   "cell_type": "code",
   "execution_count": 1,
   "id": "b9312687-c770-4147-9437-e17423ce1bff",
   "metadata": {},
   "outputs": [],
   "source": [
    "#imports\n",
    "import pandas as pd\n",
    "import numpy as np\n",
    "import matplotlib.pyplot as plt\n",
    "import seaborn as sns"
   ]
  },
  {
   "cell_type": "code",
   "execution_count": 2,
   "id": "369a7d3a-1972-435f-a010-4f9017380a2f",
   "metadata": {},
   "outputs": [],
   "source": [
    "#https://www.kaggle.com/datasets/mohithsairamreddy/salary-data\n",
    "data1 = pd.read_csv(r\"C:\\Users\\Sona Jomon\\python_program\\sal_predict\\Salary_Data.csv\")"
   ]
  },
  {
   "cell_type": "code",
   "execution_count": 3,
   "id": "d5e63e20-2d8c-463f-8f82-0b22d4c7c26e",
   "metadata": {},
   "outputs": [
    {
     "data": {
      "text/html": [
       "<div>\n",
       "<style scoped>\n",
       "    .dataframe tbody tr th:only-of-type {\n",
       "        vertical-align: middle;\n",
       "    }\n",
       "\n",
       "    .dataframe tbody tr th {\n",
       "        vertical-align: top;\n",
       "    }\n",
       "\n",
       "    .dataframe thead th {\n",
       "        text-align: right;\n",
       "    }\n",
       "</style>\n",
       "<table border=\"1\" class=\"dataframe\">\n",
       "  <thead>\n",
       "    <tr style=\"text-align: right;\">\n",
       "      <th></th>\n",
       "      <th>Age</th>\n",
       "      <th>Years of Experience</th>\n",
       "      <th>Salary</th>\n",
       "    </tr>\n",
       "  </thead>\n",
       "  <tbody>\n",
       "    <tr>\n",
       "      <th>count</th>\n",
       "      <td>6702.000000</td>\n",
       "      <td>6701.000000</td>\n",
       "      <td>6699.000000</td>\n",
       "    </tr>\n",
       "    <tr>\n",
       "      <th>mean</th>\n",
       "      <td>33.620859</td>\n",
       "      <td>8.094687</td>\n",
       "      <td>115326.964771</td>\n",
       "    </tr>\n",
       "    <tr>\n",
       "      <th>std</th>\n",
       "      <td>7.614633</td>\n",
       "      <td>6.059003</td>\n",
       "      <td>52786.183911</td>\n",
       "    </tr>\n",
       "    <tr>\n",
       "      <th>min</th>\n",
       "      <td>21.000000</td>\n",
       "      <td>0.000000</td>\n",
       "      <td>350.000000</td>\n",
       "    </tr>\n",
       "    <tr>\n",
       "      <th>25%</th>\n",
       "      <td>28.000000</td>\n",
       "      <td>3.000000</td>\n",
       "      <td>70000.000000</td>\n",
       "    </tr>\n",
       "    <tr>\n",
       "      <th>50%</th>\n",
       "      <td>32.000000</td>\n",
       "      <td>7.000000</td>\n",
       "      <td>115000.000000</td>\n",
       "    </tr>\n",
       "    <tr>\n",
       "      <th>75%</th>\n",
       "      <td>38.000000</td>\n",
       "      <td>12.000000</td>\n",
       "      <td>160000.000000</td>\n",
       "    </tr>\n",
       "    <tr>\n",
       "      <th>max</th>\n",
       "      <td>62.000000</td>\n",
       "      <td>34.000000</td>\n",
       "      <td>250000.000000</td>\n",
       "    </tr>\n",
       "  </tbody>\n",
       "</table>\n",
       "</div>"
      ],
      "text/plain": [
       "               Age  Years of Experience         Salary\n",
       "count  6702.000000          6701.000000    6699.000000\n",
       "mean     33.620859             8.094687  115326.964771\n",
       "std       7.614633             6.059003   52786.183911\n",
       "min      21.000000             0.000000     350.000000\n",
       "25%      28.000000             3.000000   70000.000000\n",
       "50%      32.000000             7.000000  115000.000000\n",
       "75%      38.000000            12.000000  160000.000000\n",
       "max      62.000000            34.000000  250000.000000"
      ]
     },
     "execution_count": 3,
     "metadata": {},
     "output_type": "execute_result"
    }
   ],
   "source": [
    "data1.describe()"
   ]
  },
  {
   "cell_type": "code",
   "execution_count": 4,
   "id": "b82bc4cb-4708-4ee2-bb7a-eaf52c1dd3ee",
   "metadata": {},
   "outputs": [
    {
     "data": {
      "text/html": [
       "<div>\n",
       "<style scoped>\n",
       "    .dataframe tbody tr th:only-of-type {\n",
       "        vertical-align: middle;\n",
       "    }\n",
       "\n",
       "    .dataframe tbody tr th {\n",
       "        vertical-align: top;\n",
       "    }\n",
       "\n",
       "    .dataframe thead th {\n",
       "        text-align: right;\n",
       "    }\n",
       "</style>\n",
       "<table border=\"1\" class=\"dataframe\">\n",
       "  <thead>\n",
       "    <tr style=\"text-align: right;\">\n",
       "      <th></th>\n",
       "      <th>Age</th>\n",
       "      <th>Gender</th>\n",
       "      <th>Education Level</th>\n",
       "      <th>Job Title</th>\n",
       "      <th>Years of Experience</th>\n",
       "      <th>Salary</th>\n",
       "    </tr>\n",
       "  </thead>\n",
       "  <tbody>\n",
       "    <tr>\n",
       "      <th>0</th>\n",
       "      <td>32.0</td>\n",
       "      <td>Male</td>\n",
       "      <td>Bachelor's</td>\n",
       "      <td>Software Engineer</td>\n",
       "      <td>5.0</td>\n",
       "      <td>90000.0</td>\n",
       "    </tr>\n",
       "    <tr>\n",
       "      <th>1</th>\n",
       "      <td>28.0</td>\n",
       "      <td>Female</td>\n",
       "      <td>Master's</td>\n",
       "      <td>Data Analyst</td>\n",
       "      <td>3.0</td>\n",
       "      <td>65000.0</td>\n",
       "    </tr>\n",
       "    <tr>\n",
       "      <th>2</th>\n",
       "      <td>45.0</td>\n",
       "      <td>Male</td>\n",
       "      <td>PhD</td>\n",
       "      <td>Senior Manager</td>\n",
       "      <td>15.0</td>\n",
       "      <td>150000.0</td>\n",
       "    </tr>\n",
       "    <tr>\n",
       "      <th>3</th>\n",
       "      <td>36.0</td>\n",
       "      <td>Female</td>\n",
       "      <td>Bachelor's</td>\n",
       "      <td>Sales Associate</td>\n",
       "      <td>7.0</td>\n",
       "      <td>60000.0</td>\n",
       "    </tr>\n",
       "    <tr>\n",
       "      <th>4</th>\n",
       "      <td>52.0</td>\n",
       "      <td>Male</td>\n",
       "      <td>Master's</td>\n",
       "      <td>Director</td>\n",
       "      <td>20.0</td>\n",
       "      <td>200000.0</td>\n",
       "    </tr>\n",
       "  </tbody>\n",
       "</table>\n",
       "</div>"
      ],
      "text/plain": [
       "    Age  Gender Education Level          Job Title  Years of Experience  \\\n",
       "0  32.0    Male      Bachelor's  Software Engineer                  5.0   \n",
       "1  28.0  Female        Master's       Data Analyst                  3.0   \n",
       "2  45.0    Male             PhD     Senior Manager                 15.0   \n",
       "3  36.0  Female      Bachelor's    Sales Associate                  7.0   \n",
       "4  52.0    Male        Master's           Director                 20.0   \n",
       "\n",
       "     Salary  \n",
       "0   90000.0  \n",
       "1   65000.0  \n",
       "2  150000.0  \n",
       "3   60000.0  \n",
       "4  200000.0  "
      ]
     },
     "execution_count": 4,
     "metadata": {},
     "output_type": "execute_result"
    }
   ],
   "source": [
    "data1.head()"
   ]
  },
  {
   "cell_type": "code",
   "execution_count": 5,
   "id": "b942433e-7eb8-43c4-ac37-255cc59e6796",
   "metadata": {},
   "outputs": [
    {
     "data": {
      "text/plain": [
       "(6704, 6)"
      ]
     },
     "execution_count": 5,
     "metadata": {},
     "output_type": "execute_result"
    }
   ],
   "source": [
    "data1.shape"
   ]
  },
  {
   "cell_type": "code",
   "execution_count": 6,
   "id": "bfb01fb2-0b6e-4fd8-8973-b1cf738ee688",
   "metadata": {},
   "outputs": [
    {
     "name": "stdout",
     "output_type": "stream",
     "text": [
      "<class 'pandas.core.frame.DataFrame'>\n",
      "RangeIndex: 6704 entries, 0 to 6703\n",
      "Data columns (total 6 columns):\n",
      " #   Column               Non-Null Count  Dtype  \n",
      "---  ------               --------------  -----  \n",
      " 0   Age                  6702 non-null   float64\n",
      " 1   Gender               6702 non-null   object \n",
      " 2   Education Level      6701 non-null   object \n",
      " 3   Job Title            6702 non-null   object \n",
      " 4   Years of Experience  6701 non-null   float64\n",
      " 5   Salary               6699 non-null   float64\n",
      "dtypes: float64(3), object(3)\n",
      "memory usage: 314.4+ KB\n"
     ]
    }
   ],
   "source": [
    "data1.info()"
   ]
  },
  {
   "cell_type": "code",
   "execution_count": 7,
   "id": "4edd8b7d-1c65-4741-8023-837ef6f37956",
   "metadata": {},
   "outputs": [
    {
     "data": {
      "text/html": [
       "<div>\n",
       "<style scoped>\n",
       "    .dataframe tbody tr th:only-of-type {\n",
       "        vertical-align: middle;\n",
       "    }\n",
       "\n",
       "    .dataframe tbody tr th {\n",
       "        vertical-align: top;\n",
       "    }\n",
       "\n",
       "    .dataframe thead th {\n",
       "        text-align: right;\n",
       "    }\n",
       "</style>\n",
       "<table border=\"1\" class=\"dataframe\">\n",
       "  <thead>\n",
       "    <tr style=\"text-align: right;\">\n",
       "      <th></th>\n",
       "      <th>Age</th>\n",
       "      <th>Gender</th>\n",
       "      <th>Education Level</th>\n",
       "      <th>Job Title</th>\n",
       "      <th>Years of Experience</th>\n",
       "      <th>Salary</th>\n",
       "    </tr>\n",
       "  </thead>\n",
       "  <tbody>\n",
       "    <tr>\n",
       "      <th>0</th>\n",
       "      <td>False</td>\n",
       "      <td>False</td>\n",
       "      <td>False</td>\n",
       "      <td>False</td>\n",
       "      <td>False</td>\n",
       "      <td>False</td>\n",
       "    </tr>\n",
       "    <tr>\n",
       "      <th>1</th>\n",
       "      <td>False</td>\n",
       "      <td>False</td>\n",
       "      <td>False</td>\n",
       "      <td>False</td>\n",
       "      <td>False</td>\n",
       "      <td>False</td>\n",
       "    </tr>\n",
       "    <tr>\n",
       "      <th>2</th>\n",
       "      <td>False</td>\n",
       "      <td>False</td>\n",
       "      <td>False</td>\n",
       "      <td>False</td>\n",
       "      <td>False</td>\n",
       "      <td>False</td>\n",
       "    </tr>\n",
       "    <tr>\n",
       "      <th>3</th>\n",
       "      <td>False</td>\n",
       "      <td>False</td>\n",
       "      <td>False</td>\n",
       "      <td>False</td>\n",
       "      <td>False</td>\n",
       "      <td>False</td>\n",
       "    </tr>\n",
       "    <tr>\n",
       "      <th>4</th>\n",
       "      <td>False</td>\n",
       "      <td>False</td>\n",
       "      <td>False</td>\n",
       "      <td>False</td>\n",
       "      <td>False</td>\n",
       "      <td>False</td>\n",
       "    </tr>\n",
       "    <tr>\n",
       "      <th>...</th>\n",
       "      <td>...</td>\n",
       "      <td>...</td>\n",
       "      <td>...</td>\n",
       "      <td>...</td>\n",
       "      <td>...</td>\n",
       "      <td>...</td>\n",
       "    </tr>\n",
       "    <tr>\n",
       "      <th>6699</th>\n",
       "      <td>False</td>\n",
       "      <td>False</td>\n",
       "      <td>False</td>\n",
       "      <td>False</td>\n",
       "      <td>False</td>\n",
       "      <td>False</td>\n",
       "    </tr>\n",
       "    <tr>\n",
       "      <th>6700</th>\n",
       "      <td>False</td>\n",
       "      <td>False</td>\n",
       "      <td>False</td>\n",
       "      <td>False</td>\n",
       "      <td>False</td>\n",
       "      <td>False</td>\n",
       "    </tr>\n",
       "    <tr>\n",
       "      <th>6701</th>\n",
       "      <td>False</td>\n",
       "      <td>False</td>\n",
       "      <td>False</td>\n",
       "      <td>False</td>\n",
       "      <td>False</td>\n",
       "      <td>False</td>\n",
       "    </tr>\n",
       "    <tr>\n",
       "      <th>6702</th>\n",
       "      <td>False</td>\n",
       "      <td>False</td>\n",
       "      <td>False</td>\n",
       "      <td>False</td>\n",
       "      <td>False</td>\n",
       "      <td>False</td>\n",
       "    </tr>\n",
       "    <tr>\n",
       "      <th>6703</th>\n",
       "      <td>False</td>\n",
       "      <td>False</td>\n",
       "      <td>False</td>\n",
       "      <td>False</td>\n",
       "      <td>False</td>\n",
       "      <td>False</td>\n",
       "    </tr>\n",
       "  </tbody>\n",
       "</table>\n",
       "<p>6704 rows × 6 columns</p>\n",
       "</div>"
      ],
      "text/plain": [
       "        Age  Gender  Education Level  Job Title  Years of Experience  Salary\n",
       "0     False   False            False      False                False   False\n",
       "1     False   False            False      False                False   False\n",
       "2     False   False            False      False                False   False\n",
       "3     False   False            False      False                False   False\n",
       "4     False   False            False      False                False   False\n",
       "...     ...     ...              ...        ...                  ...     ...\n",
       "6699  False   False            False      False                False   False\n",
       "6700  False   False            False      False                False   False\n",
       "6701  False   False            False      False                False   False\n",
       "6702  False   False            False      False                False   False\n",
       "6703  False   False            False      False                False   False\n",
       "\n",
       "[6704 rows x 6 columns]"
      ]
     },
     "execution_count": 7,
     "metadata": {},
     "output_type": "execute_result"
    }
   ],
   "source": [
    "data1.isna()"
   ]
  },
  {
   "cell_type": "code",
   "execution_count": 8,
   "id": "6bb6ccf5-768d-476a-a395-a2cab581295a",
   "metadata": {},
   "outputs": [
    {
     "name": "stdout",
     "output_type": "stream",
     "text": [
      "Age                    2\n",
      "Gender                 2\n",
      "Education Level        3\n",
      "Job Title              2\n",
      "Years of Experience    3\n",
      "Salary                 5\n",
      "dtype: int64\n"
     ]
    }
   ],
   "source": [
    "#check for missing values \n",
    "print(data1.isna().sum())"
   ]
  },
  {
   "cell_type": "code",
   "execution_count": 9,
   "id": "d00f53f7-bfe0-478a-b252-9b30b9234b5a",
   "metadata": {},
   "outputs": [
    {
     "name": "stdout",
     "output_type": "stream",
     "text": [
      "Duplicated rows:  4912\n"
     ]
    }
   ],
   "source": [
    "#check for duplicates\n",
    "print(f\"Duplicated rows:  {data1.duplicated().sum()}\")"
   ]
  },
  {
   "cell_type": "code",
   "execution_count": 10,
   "id": "82273d98-cf3e-4bff-9d2a-333df0068ec4",
   "metadata": {},
   "outputs": [
    {
     "data": {
      "text/plain": [
       "Age                    float64\n",
       "Gender                  object\n",
       "Education Level         object\n",
       "Job Title               object\n",
       "Years of Experience    float64\n",
       "Salary                 float64\n",
       "dtype: object"
      ]
     },
     "execution_count": 10,
     "metadata": {},
     "output_type": "execute_result"
    }
   ],
   "source": [
    "#check the data types\n",
    "data1.dtypes"
   ]
  },
  {
   "cell_type": "code",
   "execution_count": 11,
   "id": "b17ef289-1b74-4dfe-a4d6-ae46711e2f29",
   "metadata": {},
   "outputs": [],
   "source": [
    "#handle the missing values -- numeric\n",
    "data1.fillna({'Age' : data1['Age'].mean()}, inplace = True)\n",
    "data1.fillna({'Years of Experience' : data1['Years of Experience'].median()}, inplace = True)\n",
    "data1.fillna({'Salary' : data1['Salary'].median()}, inplace = True)"
   ]
  },
  {
   "cell_type": "code",
   "execution_count": 12,
   "id": "1df918f0-c11e-4cab-8705-e2a82d34729c",
   "metadata": {},
   "outputs": [
    {
     "name": "stdout",
     "output_type": "stream",
     "text": [
      "Age                    0\n",
      "Gender                 2\n",
      "Education Level        3\n",
      "Job Title              2\n",
      "Years of Experience    0\n",
      "Salary                 0\n",
      "dtype: int64\n"
     ]
    }
   ],
   "source": [
    "print(data1.isna().sum())"
   ]
  },
  {
   "cell_type": "code",
   "execution_count": 13,
   "id": "079a900c-9a9d-4375-a968-11867fac7bac",
   "metadata": {},
   "outputs": [],
   "source": [
    "#handle missing values  --- categorical values \n",
    "#fill with most frequent value\n",
    "data1.fillna({'Gender' : data1['Gender'].mode()[0]}, inplace = True)\n",
    "\n",
    "#preserve information about missingness\n",
    "data1.fillna({'Education Level': 'Not Specified'}, inplace = True)\n",
    "data1.fillna({'Job Title': 'Unspecified'}, inplace = True)"
   ]
  },
  {
   "cell_type": "code",
   "execution_count": 14,
   "id": "ea99fd92-bdce-4ba2-9208-ce6614057b69",
   "metadata": {},
   "outputs": [
    {
     "name": "stdout",
     "output_type": "stream",
     "text": [
      "Total duplicate rows: 4912\n",
      "Percentage of duplicates: 73.27%\n",
      "\n",
      "First 10 duplicate rows:\n",
      "      Age  Gender Education Level                              Job Title  \\\n",
      "195  28.0    Male      Bachelor's                Junior Business Analyst   \n",
      "250  30.0  Female      Bachelor's           Junior Marketing Coordinator   \n",
      "251  38.0    Male        Master's                   Senior IT Consultant   \n",
      "252  45.0  Female             PhD                Senior Product Designer   \n",
      "253  28.0    Male      Bachelor's  Junior Business Development Associate   \n",
      "254  35.0  Female      Bachelor's               Senior Marketing Analyst   \n",
      "255  44.0    Male      Bachelor's               Senior Software Engineer   \n",
      "256  34.0  Female        Master's               Senior Financial Advisor   \n",
      "257  35.0    Male      Bachelor's             Senior Project Coordinator   \n",
      "258  50.0  Female             PhD                 Director of Operations   \n",
      "\n",
      "     Years of Experience    Salary  \n",
      "195                  2.0   40000.0  \n",
      "250                  2.0   40000.0  \n",
      "251                  9.0  110000.0  \n",
      "252                 15.0  150000.0  \n",
      "253                  2.0   40000.0  \n",
      "254                  8.0   85000.0  \n",
      "255                 14.0  130000.0  \n",
      "256                  6.0  100000.0  \n",
      "257                  9.0   95000.0  \n",
      "258                 22.0  180000.0  \n",
      "\n",
      "Duplicates (excluding first occurrence): 4912\n"
     ]
    }
   ],
   "source": [
    "import pandas as pd\n",
    "import numpy as np\n",
    "\n",
    "# Check for complete duplicate rows\n",
    "print(f\"Total duplicate rows: {data1.duplicated().sum()}\")\n",
    "print(f\"Percentage of duplicates: {(data1.duplicated().sum() / len(data1)) * 100:.2f}%\")\n",
    "\n",
    "# View duplicate rows\n",
    "duplicates = data1[data1.duplicated()]\n",
    "print(f\"\\nFirst 10 duplicate rows:\")\n",
    "print(duplicates.head(10))\n",
    "\n",
    "# Check duplicates keeping first occurrence\n",
    "print(f\"\\nDuplicates (excluding first occurrence): {data1.duplicated(keep='first').sum()}\")"
   ]
  },
  {
   "cell_type": "code",
   "execution_count": 15,
   "id": "9b068cd9-c140-478f-83ba-9f4cd3904f15",
   "metadata": {},
   "outputs": [
    {
     "name": "stdout",
     "output_type": "stream",
     "text": [
      "Removed 4912 exact duplicates\n"
     ]
    }
   ],
   "source": [
    "# Simple removal - keep first occurrence\n",
    "df = data1.drop_duplicates()\n",
    "print(f\"Removed {len(data1) - len(df)} exact duplicates\")\n"
   ]
  },
  {
   "cell_type": "code",
   "execution_count": 16,
   "id": "f69de798-a1e5-474d-a886-7ac7431735f1",
   "metadata": {},
   "outputs": [
    {
     "data": {
      "text/plain": [
       "(1792, 6)"
      ]
     },
     "execution_count": 16,
     "metadata": {},
     "output_type": "execute_result"
    }
   ],
   "source": [
    "df.shape"
   ]
  },
  {
   "cell_type": "code",
   "execution_count": 17,
   "id": "74f9166f-3d89-4971-a671-71e04655aa8f",
   "metadata": {},
   "outputs": [
    {
     "data": {
      "text/plain": [
       "Years of Experience\n",
       "2.0     151\n",
       "3.0     142\n",
       "1.0     126\n",
       "4.0     124\n",
       "6.0     106\n",
       "8.0     106\n",
       "5.0     104\n",
       "7.0      94\n",
       "9.0      85\n",
       "12.0     80\n",
       "11.0     72\n",
       "10.0     66\n",
       "14.0     63\n",
       "13.0     62\n",
       "16.0     59\n",
       "15.0     47\n",
       "18.0     46\n",
       "19.0     44\n",
       "20.0     31\n",
       "21.0     27\n",
       "22.0     23\n",
       "17.0     22\n",
       "0.0      20\n",
       "23.0     17\n",
       "25.0     14\n",
       "1.5      11\n",
       "24.0      9\n",
       "28.0      8\n",
       "29.0      6\n",
       "26.0      5\n",
       "30.0      5\n",
       "27.0      5\n",
       "31.0      4\n",
       "32.0      3\n",
       "33.0      3\n",
       "0.5       1\n",
       "34.0      1\n",
       "Name: count, dtype: int64"
      ]
     },
     "execution_count": 17,
     "metadata": {},
     "output_type": "execute_result"
    }
   ],
   "source": [
    "df['Years of Experience'].value_counts()"
   ]
  },
  {
   "cell_type": "code",
   "execution_count": 18,
   "id": "09c43fd4-9606-4831-a2cc-3aa769acd16d",
   "metadata": {},
   "outputs": [
    {
     "data": {
      "image/png": "[encoded data removed]",
      "text/plain": [
       "<Figure size 640x480 with 1 Axes>"
      ]
     },
     "metadata": {},
     "output_type": "display_data"
    }
   ],
   "source": [
    "plt.boxplot(data1['Age'])\n",
    "plt.show()"
   ]
  },
  {
   "cell_type": "code",
   "execution_count": 19,
   "id": "fc604a81-a0f9-4876-affa-ebce8ea0878f",
   "metadata": {},
   "outputs": [],
   "source": [
    "df = df[(df['Age'] < 60)]"
   ]
  },
  {
   "cell_type": "code",
   "execution_count": 20,
   "id": "a5c7404f-cbd8-48a6-9ffa-21afa811b76d",
   "metadata": {},
   "outputs": [
    {
     "data": {
      "image/png": "[encoded data removed]",
      "text/plain": [
       "<Figure size 640x480 with 1 Axes>"
      ]
     },
     "metadata": {},
     "output_type": "display_data"
    }
   ],
   "source": [
    "plt.boxplot(df['Age'])\n",
    "plt.show()"
   ]
  },
  {
   "cell_type": "code",
   "execution_count": 21,
   "id": "cee22530-fd4c-4faf-9c69-4667cdc95ace",
   "metadata": {},
   "outputs": [
    {
     "data": {
      "image/png": "[encoded data removed]",
      "text/plain": [
       "<Figure size 640x480 with 1 Axes>"
      ]
     },
     "metadata": {},
     "output_type": "display_data"
    }
   ],
   "source": [
    "plt.boxplot(df['Years of Experience'])\n",
    "plt.show()"
   ]
  },
  {
   "cell_type": "code",
   "execution_count": 22,
   "id": "0700aca3-4502-48bd-a496-638ceda11697",
   "metadata": {},
   "outputs": [
    {
     "data": {
      "image/png": "[encoded data removed]",
      "text/plain": [
       "<Figure size 640x480 with 1 Axes>"
      ]
     },
     "metadata": {},
     "output_type": "display_data"
    }
   ],
   "source": [
    "df = df[(df['Years of Experience'] < 27)]\n",
    "plt.boxplot(df['Years of Experience'])\n",
    "plt.show()"
   ]
  },
  {
   "cell_type": "code",
   "execution_count": 23,
   "id": "d2dfe237-91f0-40a8-a875-96911e2cabef",
   "metadata": {},
   "outputs": [
    {
     "data": {
      "image/png": "[encoded data removed]",
      "text/plain": [
       "<Figure size 640x480 with 1 Axes>"
      ]
     },
     "metadata": {},
     "output_type": "display_data"
    }
   ],
   "source": [
    "plt.boxplot(df['Salary'])\n",
    "plt.show()"
   ]
  },
  {
   "cell_type": "code",
   "execution_count": 24,
   "id": "ea42a220-929a-4e99-82ed-e712d301851f",
   "metadata": {},
   "outputs": [
    {
     "name": "stdout",
     "output_type": "stream",
     "text": [
      "['Age', 'Gender', 'Education Level', 'Job Title', 'Years of Experience', 'Salary']\n"
     ]
    }
   ],
   "source": [
    "print(list(df.columns))\n"
   ]
  },
  {
   "cell_type": "code",
   "execution_count": 25,
   "id": "05ec9bb5-dd04-4f16-8c3f-37a76251ac0f",
   "metadata": {},
   "outputs": [],
   "source": [
    "#splitting the data \n",
    "x = df.drop(columns = ['Salary'])\n",
    "y = df['Salary']"
   ]
  },
  {
   "cell_type": "code",
   "execution_count": 26,
   "id": "702ddf93-352b-40d4-8a61-8bdfaa60d416",
   "metadata": {},
   "outputs": [
    {
     "data": {
      "text/plain": [
       "0        90000.0\n",
       "1        65000.0\n",
       "2       150000.0\n",
       "3        60000.0\n",
       "4       200000.0\n",
       "          ...   \n",
       "6623    150000.0\n",
       "6624     40000.0\n",
       "6625     80000.0\n",
       "6628     90000.0\n",
       "6631     70000.0\n",
       "Name: Salary, Length: 1753, dtype: float64"
      ]
     },
     "execution_count": 26,
     "metadata": {},
     "output_type": "execute_result"
    }
   ],
   "source": [
    "y"
   ]
  },
  {
   "cell_type": "code",
   "execution_count": 27,
   "id": "2c817f56-2263-4fc5-9370-de0c02033a92",
   "metadata": {},
   "outputs": [
    {
     "data": {
      "text/plain": [
       "['feature_columns.pkl']"
      ]
     },
     "execution_count": 27,
     "metadata": {},
     "output_type": "execute_result"
    }
   ],
   "source": [
    "# # Use one-hot encoding for categorical columns\n",
    "import joblib\n",
    "df = pd.get_dummies(df, columns=['Gender', 'Education Level', 'Job Title'], drop_first=True)\n",
    "# After get_dummies()\n",
    "x = pd.get_dummies(df.drop(columns=['Salary']), drop_first=True)\n",
    "y = df['Salary']\n",
    "\n",
    "# Save column names used during training\n",
    "joblib.dump(x.columns.tolist(), \"feature_columns.pkl\")"
   ]
  },
  {
   "cell_type": "code",
   "execution_count": 28,
   "id": "ed63e675-f6ff-4b4c-a6a8-29cb3851f38e",
   "metadata": {},
   "outputs": [
    {
     "data": {
      "text/plain": [
       "array([[0.2972973 , 0.19230769, 1.        , ..., 0.        , 0.        ,\n",
       "        0.        ],\n",
       "       [0.18918919, 0.11538462, 0.        , ..., 0.        , 0.        ,\n",
       "        0.        ],\n",
       "       [0.64864865, 0.57692308, 1.        , ..., 0.        , 0.        ,\n",
       "        0.        ],\n",
       "       ...,\n",
       "       [0.32432432, 0.30769231, 0.        , ..., 0.        , 0.        ,\n",
       "        0.        ],\n",
       "       [0.43243243, 0.26923077, 1.        , ..., 0.        , 0.        ,\n",
       "        0.        ],\n",
       "       [0.24324324, 0.19230769, 0.        , ..., 0.        , 0.        ,\n",
       "        0.        ]], shape=(1753, 204))"
      ]
     },
     "execution_count": 28,
     "metadata": {},
     "output_type": "execute_result"
    }
   ],
   "source": [
    "#scaling \n",
    "from sklearn.preprocessing import MinMaxScaler\n",
    "scaler = MinMaxScaler()\n",
    "x = scaler.fit_transform(x)\n",
    "x"
   ]
  },
  {
   "cell_type": "code",
   "execution_count": 29,
   "id": "05c7ef9e-1526-42ee-894f-6fca36e8171a",
   "metadata": {},
   "outputs": [],
   "source": [
    "#train_test_split\n",
    "#stratify=y only works when y is categorical\n",
    "from sklearn.model_selection import train_test_split\n",
    "xtrain, xtest, ytrain, ytest = train_test_split(x, y, test_size =0.2, random_state = 4)"
   ]
  },
  {
   "cell_type": "code",
   "execution_count": 30,
   "id": "02d916f4-7992-4266-9a26-73ffd38fa10e",
   "metadata": {},
   "outputs": [
    {
     "data": {
      "text/plain": [
       "array([[0.16216216, 0.15384615, 1.        , ..., 0.        , 0.        ,\n",
       "        0.        ],\n",
       "       [0.24324324, 0.30769231, 1.        , ..., 0.        , 0.        ,\n",
       "        0.        ],\n",
       "       [0.24324324, 0.19230769, 0.        , ..., 0.        , 0.        ,\n",
       "        0.        ],\n",
       "       ...,\n",
       "       [0.18918919, 0.23076923, 0.        , ..., 0.        , 0.        ,\n",
       "        0.        ],\n",
       "       [0.13513514, 0.05769231, 0.        , ..., 0.        , 0.        ,\n",
       "        0.        ],\n",
       "       [0.08108108, 0.03846154, 1.        , ..., 0.        , 0.        ,\n",
       "        0.        ]], shape=(1402, 204))"
      ]
     },
     "execution_count": 30,
     "metadata": {},
     "output_type": "execute_result"
    }
   ],
   "source": [
    "xtrain"
   ]
  },
  {
   "cell_type": "code",
   "execution_count": 31,
   "id": "81a672f2-735b-46fb-8a01-6c0eae865d46",
   "metadata": {},
   "outputs": [
    {
     "name": "stdout",
     "output_type": "stream",
     "text": [
      "Mean Squared Error (MSE) : 359989169.97\n",
      "Variance score: 0.85\n"
     ]
    }
   ],
   "source": [
    "#multiple linear regression\n",
    "from sklearn import linear_model\n",
    "mlr = linear_model.LinearRegression()\n",
    "mlr.fit(xtrain, ytrain)\n",
    "\n",
    "#prediction\n",
    "predict1 = mlr.predict(xtest)\n",
    "\n",
    "#evaluation\n",
    "print(\"Mean Squared Error (MSE) : %.2f\"\n",
    "      % np.mean((predict1 - ytest) ** 2))\n",
    "\n",
    "# Explained variance score: 1 is perfect prediction\n",
    "print('Variance score: %.2f' % mlr.score(xtest, ytest))"
   ]
  },
  {
   "cell_type": "code",
   "execution_count": 32,
   "id": "47819327-c02f-40ec-8238-c5183b65caeb",
   "metadata": {},
   "outputs": [
    {
     "name": "stdout",
     "output_type": "stream",
     "text": [
      "Mean Absolute Error: 9686.053477183865\n",
      "R² Score: 0.9191652396585481\n"
     ]
    }
   ],
   "source": [
    "#random forest \n",
    "from sklearn.ensemble import RandomForestRegressor\n",
    "from sklearn.metrics import mean_absolute_error, r2_score\n",
    "\n",
    "rf = RandomForestRegressor(n_estimators =100, random_state = 42)\n",
    "rf.fit(xtrain, ytrain)\n",
    "\n",
    "predict2 = rf.predict(xtest)\n",
    "\n",
    "mae = mean_absolute_error(ytest, predict2)\n",
    "r2 = r2_score(ytest, predict2)\n",
    "\n",
    "print(f\"Mean Absolute Error: {mae}\")\n",
    "print(f\"R² Score: {r2}\")"
   ]
  },
  {
   "cell_type": "code",
   "execution_count": 33,
   "id": "a624bef3-a9d3-4def-a1ff-9533a42524ec",
   "metadata": {},
   "outputs": [
    {
     "name": "stdout",
     "output_type": "stream",
     "text": [
      "Mean Absolute Error: 14296.83\n",
      "R² Score: 0.82\n"
     ]
    }
   ],
   "source": [
    "#SVR : Support Vector Regression\n",
    "from sklearn.preprocessing import StandardScaler\n",
    "from sklearn.svm import SVR\n",
    "# SVR requires feature scaling\n",
    "scaler_x = StandardScaler()\n",
    "scaler_y = StandardScaler()\n",
    "xtrain_scaled = scaler_x.fit_transform(xtrain)\n",
    "xtest_scaled = scaler_x.transform(xtest)\n",
    "ytrain_scaled = scaler_y.fit_transform(ytrain.values.reshape(-1, 1)).ravel()\n",
    "#training\n",
    "svr = SVR(kernel='rbf')  \n",
    "svr.fit(xtrain_scaled, ytrain_scaled)\n",
    "\n",
    "# Predict\n",
    "scaled_predict= svr.predict(xtest_scaled)\n",
    "\n",
    "# Inverse transform the scaled predictions\n",
    "predict3 = scaler_y.inverse_transform(scaled_predict.reshape(-1, 1))\n",
    "# Evaluate\n",
    "mae = mean_absolute_error(ytest, predict3)\n",
    "r2 = r2_score(ytest, predict3)\n",
    "\n",
    "print(f\"Mean Absolute Error: {mae:.2f}\")\n",
    "print(f\"R² Score: {r2:.2f}\")\n"
   ]
  },
  {
   "cell_type": "code",
   "execution_count": 34,
   "id": "adf5b717-ff8b-4a50-978d-8c850847fb83",
   "metadata": {},
   "outputs": [
    {
     "name": "stdout",
     "output_type": "stream",
     "text": [
      "Mean Absolute Error: 12968.17\n",
      "R² Score: 0.88\n"
     ]
    }
   ],
   "source": [
    "#gradient boosting\n",
    "from sklearn.ensemble import GradientBoostingRegressor\n",
    "gb = GradientBoostingRegressor(n_estimators=100, learning_rate=0.1, max_depth=3, random_state=42)\n",
    "gb.fit(xtrain, ytrain)\n",
    "predict4 = gb.predict(xtest)\n",
    "# Evaluate\n",
    "mae = mean_absolute_error(ytest, predict4)\n",
    "r2 = r2_score(ytest, predict4)\n",
    "\n",
    "print(f\"Mean Absolute Error: {mae:.2f}\")\n",
    "print(f\"R² Score: {r2:.2f}\")\n"
   ]
  },
  {
   "cell_type": "code",
   "execution_count": 35,
   "id": "2f6be87c-2e32-4765-8863-764fac6b07eb",
   "metadata": {},
   "outputs": [
    {
     "name": "stdout",
     "output_type": "stream",
     "text": [
      "Linear Regression: MAE = 14618.7099, R² = 0.8503\n",
      "Random Forest: MAE = 10383.9187, R² = 0.8985\n",
      "SVM: MAE = 43740.6147, R² = 0.0010\n",
      "Gradient Boosting: MAE = 12753.2492, R² = 0.8804\n",
      "\n",
      " Best Model: Random Forest\n",
      "   → MAE: 10383.9187, R²: 0.8985\n",
      "Saved best regression model as best_regression_model.pkl\n"
     ]
    }
   ],
   "source": [
    "from sklearn.linear_model import LinearRegression\n",
    "from sklearn.ensemble import RandomForestRegressor, GradientBoostingRegressor\n",
    "from sklearn.svm import SVR\n",
    "from sklearn.neighbors import KNeighborsRegressor\n",
    "from sklearn.metrics import mean_absolute_error, r2_score\n",
    "from sklearn.model_selection import train_test_split\n",
    "import joblib\n",
    "\n",
    "# Train-test split\n",
    "X_train, X_test, y_train, y_test = train_test_split(x, y, test_size=0.2, random_state=42)\n",
    "\n",
    "# Define regression models\n",
    "models = {\n",
    "    \"Linear Regression\": LinearRegression(),\n",
    "    \"Random Forest\": RandomForestRegressor(),\n",
    "    \"SVM\": SVR(),\n",
    "    \"Gradient Boosting\": GradientBoostingRegressor()\n",
    "}\n",
    "\n",
    "results = {}\n",
    "\n",
    "# Evaluate each model\n",
    "for name, model in models.items():\n",
    "    model.fit(X_train, y_train)\n",
    "    preds = model.predict(X_test)\n",
    "    mae = mean_absolute_error(y_test, preds)\n",
    "    r2 = r2_score(y_test, preds)\n",
    "    results[name] = (mae, r2)\n",
    "    print(f\"{name}: MAE = {mae:.4f}, R² = {r2:.4f}\")\n",
    "\n",
    "# Select best model: maximize R², minimize MAE\n",
    "best_model_name = max(results, key=lambda x: (results[x][1], -results[x][0]))\n",
    "best_model = models[best_model_name]\n",
    "\n",
    "print(f\"\\n Best Model: {best_model_name}\")\n",
    "print(f\"   → MAE: {results[best_model_name][0]:.4f}, R²: {results[best_model_name][1]:.4f}\")\n",
    "\n",
    "# Save the best model\n",
    "joblib.dump(best_model, \"best_regression_model.pkl\")\n",
    "print(\"Saved best regression model as best_regression_model.pkl\")\n"
   ]
  },
  {
   "cell_type": "code",
   "execution_count": 38,
   "id": "8a0d8097-db0b-492b-9c2a-a2c36531cf9e",
   "metadata": {},
   "outputs": [
    {
     "data": {
      "text/plain": [
       "['best_model.pkl']"
      ]
     },
     "execution_count": 38,
     "metadata": {},
     "output_type": "execute_result"
    }
   ],
   "source": [
    "import joblib\n",
    "\n",
    "# Save model and scaler\n",
    "joblib.dump(scaler, 'scaler.pkl')\n",
    "joblib.dump(mlr, 'best_model.pkl')\n"
   ]
  },
  {
   "cell_type": "code",
   "execution_count": 37,
   "id": "d316f305-42f0-41a2-8e80-bd1fe7bff6bd",
   "metadata": {},
   "outputs": [
    {
     "data": {
      "image/png": "[encoded data removed]",
      "text/plain": [
       "<Figure size 1000x400 with 1 Axes>"
      ]
     },
     "metadata": {},
     "output_type": "display_data"
    },
    {
     "data": {
      "image/png": "[encoded data removed]",
      "text/plain": [
       "<Figure size 1000x400 with 1 Axes>"
      ]
     },
     "metadata": {},
     "output_type": "display_data"
    }
   ],
   "source": [
    "import matplotlib.pyplot as plt\n",
    "\n",
    "# Separate metrics\n",
    "model_names = list(results.keys())\n",
    "mae_scores = [results[m][0] for m in model_names]\n",
    "r2_scores = [results[m][1] for m in model_names]\n",
    "\n",
    "# MAE Plot\n",
    "plt.figure(figsize=(10, 4))\n",
    "plt.bar(model_names, mae_scores, color='skyblue')\n",
    "plt.title(\"Mean Absolute Error (MAE) Comparison\")\n",
    "plt.ylabel(\"MAE (Lower is Better)\")\n",
    "plt.xlabel(\"Models\")\n",
    "plt.show()\n",
    "\n",
    "# R² Plot\n",
    "plt.figure(figsize=(10, 4))\n",
    "plt.bar(model_names, r2_scores, color='lightgreen')\n",
    "plt.title(\"R² Score Comparison\")\n",
    "plt.ylabel(\"R² (Higher is Better)\")\n",
    "plt.xlabel(\"Models\")\n",
    "plt.show()\n"
   ]
  },
  {
   "cell_type": "code",
   "execution_count": null,
   "id": "409395dd-75ff-4c42-a5b1-add1cc8ff0d8",
   "metadata": {},
   "outputs": [],
   "source": []
  }
 ],
 "metadata": {
  "kernelspec": {
   "display_name": "Python 3 (ipykernel)",
   "language": "python",
   "name": "python3"
  },
  "language_info": {
   "codemirror_mode": {
    "name": "ipython",
    "version": 3
   },
   "file_extension": ".py",
   "mimetype": "text/x-python",
   "name": "python",
   "nbconvert_exporter": "python",
   "pygments_lexer": "ipython3",
   "version": "3.12.2"
  }
 },
 "nbformat": 4,
 "nbformat_minor": 5
}
